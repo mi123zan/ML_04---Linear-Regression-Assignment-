{
 "cells": [
  {
   "cell_type": "markdown",
   "id": "8f71fe01",
   "metadata": {},
   "source": [
    "# Import required library"
   ]
  },
  {
   "cell_type": "code",
   "execution_count": 1,
   "id": "41d1e8d8",
   "metadata": {},
   "outputs": [],
   "source": [
    "import pandas as pd\n",
    "import numpy as np\n",
    "import matplotlib.pyplot as plt"
   ]
  },
  {
   "cell_type": "markdown",
   "id": "0ca3f33e",
   "metadata": {},
   "source": [
    "# Read dataset"
   ]
  },
  {
   "cell_type": "code",
   "execution_count": 2,
   "id": "8706ab6d",
   "metadata": {},
   "outputs": [],
   "source": [
    "df = pd.read_csv('Weight_Height.csv')"
   ]
  },
  {
   "cell_type": "code",
   "execution_count": 3,
   "id": "c49ec908",
   "metadata": {},
   "outputs": [
    {
     "data": {
      "text/html": [
       "<div>\n",
       "<style scoped>\n",
       "    .dataframe tbody tr th:only-of-type {\n",
       "        vertical-align: middle;\n",
       "    }\n",
       "\n",
       "    .dataframe tbody tr th {\n",
       "        vertical-align: top;\n",
       "    }\n",
       "\n",
       "    .dataframe thead th {\n",
       "        text-align: right;\n",
       "    }\n",
       "</style>\n",
       "<table border=\"1\" class=\"dataframe\">\n",
       "  <thead>\n",
       "    <tr style=\"text-align: right;\">\n",
       "      <th></th>\n",
       "      <th>Height</th>\n",
       "      <th>Weight</th>\n",
       "    </tr>\n",
       "  </thead>\n",
       "  <tbody>\n",
       "    <tr>\n",
       "      <th>0</th>\n",
       "      <td>73.85</td>\n",
       "      <td>241.89</td>\n",
       "    </tr>\n",
       "    <tr>\n",
       "      <th>1</th>\n",
       "      <td>68.78</td>\n",
       "      <td>162.31</td>\n",
       "    </tr>\n",
       "    <tr>\n",
       "      <th>2</th>\n",
       "      <td>74.11</td>\n",
       "      <td>212.74</td>\n",
       "    </tr>\n",
       "    <tr>\n",
       "      <th>3</th>\n",
       "      <td>71.73</td>\n",
       "      <td>220.04</td>\n",
       "    </tr>\n",
       "    <tr>\n",
       "      <th>4</th>\n",
       "      <td>69.88</td>\n",
       "      <td>206.35</td>\n",
       "    </tr>\n",
       "  </tbody>\n",
       "</table>\n",
       "</div>"
      ],
      "text/plain": [
       "   Height  Weight\n",
       "0   73.85  241.89\n",
       "1   68.78  162.31\n",
       "2   74.11  212.74\n",
       "3   71.73  220.04\n",
       "4   69.88  206.35"
      ]
     },
     "execution_count": 3,
     "metadata": {},
     "output_type": "execute_result"
    }
   ],
   "source": [
    "df.head()"
   ]
  },
  {
   "cell_type": "code",
   "execution_count": 4,
   "id": "8126920a",
   "metadata": {},
   "outputs": [
    {
     "data": {
      "text/plain": [
       "(3501, 2)"
      ]
     },
     "execution_count": 4,
     "metadata": {},
     "output_type": "execute_result"
    }
   ],
   "source": [
    "df.shape"
   ]
  },
  {
   "cell_type": "code",
   "execution_count": 5,
   "id": "ce621a84",
   "metadata": {},
   "outputs": [
    {
     "name": "stdout",
     "output_type": "stream",
     "text": [
      "<class 'pandas.core.frame.DataFrame'>\n",
      "RangeIndex: 3501 entries, 0 to 3500\n",
      "Data columns (total 2 columns):\n",
      " #   Column  Non-Null Count  Dtype  \n",
      "---  ------  --------------  -----  \n",
      " 0   Height  3501 non-null   float64\n",
      " 1   Weight  3501 non-null   float64\n",
      "dtypes: float64(2)\n",
      "memory usage: 54.8 KB\n"
     ]
    }
   ],
   "source": [
    "df.info()"
   ]
  },
  {
   "cell_type": "code",
   "execution_count": 6,
   "id": "e4a3f5cb",
   "metadata": {},
   "outputs": [
    {
     "data": {
      "text/html": [
       "<div>\n",
       "<style scoped>\n",
       "    .dataframe tbody tr th:only-of-type {\n",
       "        vertical-align: middle;\n",
       "    }\n",
       "\n",
       "    .dataframe tbody tr th {\n",
       "        vertical-align: top;\n",
       "    }\n",
       "\n",
       "    .dataframe thead th {\n",
       "        text-align: right;\n",
       "    }\n",
       "</style>\n",
       "<table border=\"1\" class=\"dataframe\">\n",
       "  <thead>\n",
       "    <tr style=\"text-align: right;\">\n",
       "      <th></th>\n",
       "      <th>Height</th>\n",
       "      <th>Weight</th>\n",
       "    </tr>\n",
       "  </thead>\n",
       "  <tbody>\n",
       "    <tr>\n",
       "      <th>count</th>\n",
       "      <td>3501.000000</td>\n",
       "      <td>3501.000000</td>\n",
       "    </tr>\n",
       "    <tr>\n",
       "      <th>mean</th>\n",
       "      <td>69.024324</td>\n",
       "      <td>186.891351</td>\n",
       "    </tr>\n",
       "    <tr>\n",
       "      <th>std</th>\n",
       "      <td>2.858628</td>\n",
       "      <td>19.903136</td>\n",
       "    </tr>\n",
       "    <tr>\n",
       "      <th>min</th>\n",
       "      <td>59.380000</td>\n",
       "      <td>65.780000</td>\n",
       "    </tr>\n",
       "    <tr>\n",
       "      <th>25%</th>\n",
       "      <td>67.190000</td>\n",
       "      <td>173.900000</td>\n",
       "    </tr>\n",
       "    <tr>\n",
       "      <th>50%</th>\n",
       "      <td>69.040000</td>\n",
       "      <td>187.310000</td>\n",
       "    </tr>\n",
       "    <tr>\n",
       "      <th>75%</th>\n",
       "      <td>70.980000</td>\n",
       "      <td>200.360000</td>\n",
       "    </tr>\n",
       "    <tr>\n",
       "      <th>max</th>\n",
       "      <td>79.000000</td>\n",
       "      <td>269.990000</td>\n",
       "    </tr>\n",
       "  </tbody>\n",
       "</table>\n",
       "</div>"
      ],
      "text/plain": [
       "            Height       Weight\n",
       "count  3501.000000  3501.000000\n",
       "mean     69.024324   186.891351\n",
       "std       2.858628    19.903136\n",
       "min      59.380000    65.780000\n",
       "25%      67.190000   173.900000\n",
       "50%      69.040000   187.310000\n",
       "75%      70.980000   200.360000\n",
       "max      79.000000   269.990000"
      ]
     },
     "execution_count": 6,
     "metadata": {},
     "output_type": "execute_result"
    }
   ],
   "source": [
    "df.describe()"
   ]
  },
  {
   "cell_type": "markdown",
   "id": "eeff7b2c",
   "metadata": {},
   "source": [
    "# Scatter plot"
   ]
  },
  {
   "cell_type": "code",
   "execution_count": 7,
   "id": "2dfbc56c",
   "metadata": {},
   "outputs": [
    {
     "data": {
      "text/plain": [
       "Text(0.5, 1.0, 'Co-relation of height vs weight')"
      ]
     },
     "execution_count": 7,
     "metadata": {},
     "output_type": "execute_result"
    },
    {
     "data": {
      "image/png": "[encoded data removed]",
      "text/plain": [
       "<Figure size 576x504 with 1 Axes>"
      ]
     },
     "metadata": {
      "needs_background": "light"
     },
     "output_type": "display_data"
    }
   ],
   "source": [
    "plt.figure(figsize=(8,7))\n",
    "plt.scatter(df['Height'],df['Weight'], color='black', marker=\"P\")\n",
    "plt.xlabel('Height in cm')\n",
    "plt.ylabel('Weight in pound')\n",
    "plt.title('Co-relation of height vs weight')"
   ]
  },
  {
   "cell_type": "markdown",
   "id": "6fa08905",
   "metadata": {},
   "source": [
    "# Check mean"
   ]
  },
  {
   "cell_type": "code",
   "execution_count": 8,
   "id": "4a41718a",
   "metadata": {},
   "outputs": [
    {
     "data": {
      "text/plain": [
       "69.02432447872032"
      ]
     },
     "execution_count": 8,
     "metadata": {},
     "output_type": "execute_result"
    }
   ],
   "source": [
    "df.Height.mean()"
   ]
  },
  {
   "cell_type": "code",
   "execution_count": 9,
   "id": "1f881df1",
   "metadata": {},
   "outputs": [
    {
     "data": {
      "text/plain": [
       "186.8913510425599"
      ]
     },
     "execution_count": 9,
     "metadata": {},
     "output_type": "execute_result"
    }
   ],
   "source": [
    "df.Weight.mean()"
   ]
  },
  {
   "cell_type": "markdown",
   "id": "93868247",
   "metadata": {},
   "source": [
    "# Cleck the length of dataset"
   ]
  },
  {
   "cell_type": "code",
   "execution_count": 10,
   "id": "8e267f8d",
   "metadata": {},
   "outputs": [
    {
     "data": {
      "text/plain": [
       "3501"
      ]
     },
     "execution_count": 10,
     "metadata": {},
     "output_type": "execute_result"
    }
   ],
   "source": [
    "len(df.Height)"
   ]
  },
  {
   "cell_type": "code",
   "execution_count": 11,
   "id": "14e47839",
   "metadata": {},
   "outputs": [
    {
     "data": {
      "text/plain": [
       "3501"
      ]
     },
     "execution_count": 11,
     "metadata": {},
     "output_type": "execute_result"
    }
   ],
   "source": [
    "len(df.Weight)"
   ]
  },
  {
   "cell_type": "markdown",
   "id": "449aaaad",
   "metadata": {},
   "source": [
    "# Rename the dataset as x and y"
   ]
  },
  {
   "cell_type": "code",
   "execution_count": 12,
   "id": "5ca071ba",
   "metadata": {},
   "outputs": [],
   "source": [
    "x = df[['Height']]\n",
    "y = df['Weight']"
   ]
  },
  {
   "cell_type": "markdown",
   "id": "94705873",
   "metadata": {},
   "source": [
    "# Split Dataset"
   ]
  },
  {
   "cell_type": "code",
   "execution_count": 13,
   "id": "3c4e959b",
   "metadata": {},
   "outputs": [],
   "source": [
    "from sklearn.model_selection import train_test_split as tts\n",
    "xtrain, xtest, ytrain, ytest = tts(x, y, test_size=0.60)"
   ]
  },
  {
   "cell_type": "code",
   "execution_count": 14,
   "id": "ba0782ee",
   "metadata": {},
   "outputs": [
    {
     "data": {
      "text/plain": [
       "(1400, 1)"
      ]
     },
     "execution_count": 14,
     "metadata": {},
     "output_type": "execute_result"
    }
   ],
   "source": [
    "xtrain.shape"
   ]
  },
  {
   "cell_type": "code",
   "execution_count": 15,
   "id": "25649824",
   "metadata": {},
   "outputs": [
    {
     "data": {
      "text/plain": [
       "(1400,)"
      ]
     },
     "execution_count": 15,
     "metadata": {},
     "output_type": "execute_result"
    }
   ],
   "source": [
    "ytrain.shape"
   ]
  },
  {
   "cell_type": "code",
   "execution_count": 16,
   "id": "62c43ccd",
   "metadata": {},
   "outputs": [
    {
     "data": {
      "text/html": [
       "<div>\n",
       "<style scoped>\n",
       "    .dataframe tbody tr th:only-of-type {\n",
       "        vertical-align: middle;\n",
       "    }\n",
       "\n",
       "    .dataframe tbody tr th {\n",
       "        vertical-align: top;\n",
       "    }\n",
       "\n",
       "    .dataframe thead th {\n",
       "        text-align: right;\n",
       "    }\n",
       "</style>\n",
       "<table border=\"1\" class=\"dataframe\">\n",
       "  <thead>\n",
       "    <tr style=\"text-align: right;\">\n",
       "      <th></th>\n",
       "      <th>Height</th>\n",
       "    </tr>\n",
       "  </thead>\n",
       "  <tbody>\n",
       "    <tr>\n",
       "      <th>2672</th>\n",
       "      <td>68.18</td>\n",
       "    </tr>\n",
       "    <tr>\n",
       "      <th>287</th>\n",
       "      <td>69.16</td>\n",
       "    </tr>\n",
       "    <tr>\n",
       "      <th>3173</th>\n",
       "      <td>70.96</td>\n",
       "    </tr>\n",
       "    <tr>\n",
       "      <th>1215</th>\n",
       "      <td>68.67</td>\n",
       "    </tr>\n",
       "    <tr>\n",
       "      <th>3498</th>\n",
       "      <td>73.91</td>\n",
       "    </tr>\n",
       "  </tbody>\n",
       "</table>\n",
       "</div>"
      ],
      "text/plain": [
       "      Height\n",
       "2672   68.18\n",
       "287    69.16\n",
       "3173   70.96\n",
       "1215   68.67\n",
       "3498   73.91"
      ]
     },
     "execution_count": 16,
     "metadata": {},
     "output_type": "execute_result"
    }
   ],
   "source": [
    "xtrain.head()"
   ]
  },
  {
   "cell_type": "code",
   "execution_count": 17,
   "id": "a12f26ad",
   "metadata": {},
   "outputs": [
    {
     "data": {
      "text/plain": [
       "2672    172.96\n",
       "287     195.90\n",
       "3173    202.12\n",
       "1215    178.17\n",
       "3498    202.43\n",
       "Name: Weight, dtype: float64"
      ]
     },
     "execution_count": 17,
     "metadata": {},
     "output_type": "execute_result"
    }
   ],
   "source": [
    "ytrain.head()"
   ]
  },
  {
   "cell_type": "markdown",
   "id": "bdf1ebac",
   "metadata": {},
   "source": [
    "# Applying the Linear_regression model"
   ]
  },
  {
   "cell_type": "code",
   "execution_count": 18,
   "id": "96b87ee6",
   "metadata": {},
   "outputs": [],
   "source": [
    "from sklearn.linear_model import LinearRegression"
   ]
  },
  {
   "cell_type": "code",
   "execution_count": 19,
   "id": "7c94b945",
   "metadata": {},
   "outputs": [],
   "source": [
    "lr = LinearRegression()"
   ]
  },
  {
   "cell_type": "code",
   "execution_count": 20,
   "id": "f26f38b1",
   "metadata": {},
   "outputs": [
    {
     "data": {
      "text/plain": [
       "LinearRegression()"
      ]
     },
     "execution_count": 20,
     "metadata": {},
     "output_type": "execute_result"
    }
   ],
   "source": [
    "lr.fit(xtrain, ytrain)"
   ]
  },
  {
   "cell_type": "code",
   "execution_count": 21,
   "id": "d011b7c8",
   "metadata": {},
   "outputs": [
    {
     "data": {
      "text/plain": [
       "array([6.01951463])"
      ]
     },
     "execution_count": 21,
     "metadata": {},
     "output_type": "execute_result"
    }
   ],
   "source": [
    "lr.coef_"
   ]
  },
  {
   "cell_type": "code",
   "execution_count": 22,
   "id": "4657c6cd",
   "metadata": {},
   "outputs": [
    {
     "data": {
      "text/plain": [
       "-228.47954526099312"
      ]
     },
     "execution_count": 22,
     "metadata": {},
     "output_type": "execute_result"
    }
   ],
   "source": [
    "lr.intercept_"
   ]
  },
  {
   "cell_type": "code",
   "execution_count": 23,
   "id": "cb34e123",
   "metadata": {},
   "outputs": [
    {
     "data": {
      "text/plain": [
       "array([216.06161033, 185.54267115, 217.62668414, ..., 216.42278121,\n",
       "       177.23574095, 209.37994909])"
      ]
     },
     "execution_count": 23,
     "metadata": {},
     "output_type": "execute_result"
    }
   ],
   "source": [
    "lr.predict(df[['Height']])"
   ]
  },
  {
   "cell_type": "code",
   "execution_count": 24,
   "id": "0f7548b3",
   "metadata": {},
   "outputs": [],
   "source": [
    "df['Predicted Weight'] = lr.predict(df[['Height']])"
   ]
  },
  {
   "cell_type": "code",
   "execution_count": 25,
   "id": "0c6456c0",
   "metadata": {},
   "outputs": [
    {
     "data": {
      "text/html": [
       "<div>\n",
       "<style scoped>\n",
       "    .dataframe tbody tr th:only-of-type {\n",
       "        vertical-align: middle;\n",
       "    }\n",
       "\n",
       "    .dataframe tbody tr th {\n",
       "        vertical-align: top;\n",
       "    }\n",
       "\n",
       "    .dataframe thead th {\n",
       "        text-align: right;\n",
       "    }\n",
       "</style>\n",
       "<table border=\"1\" class=\"dataframe\">\n",
       "  <thead>\n",
       "    <tr style=\"text-align: right;\">\n",
       "      <th></th>\n",
       "      <th>Height</th>\n",
       "      <th>Weight</th>\n",
       "      <th>Predicted Weight</th>\n",
       "    </tr>\n",
       "  </thead>\n",
       "  <tbody>\n",
       "    <tr>\n",
       "      <th>0</th>\n",
       "      <td>73.85</td>\n",
       "      <td>241.89</td>\n",
       "      <td>216.061610</td>\n",
       "    </tr>\n",
       "    <tr>\n",
       "      <th>1</th>\n",
       "      <td>68.78</td>\n",
       "      <td>162.31</td>\n",
       "      <td>185.542671</td>\n",
       "    </tr>\n",
       "    <tr>\n",
       "      <th>2</th>\n",
       "      <td>74.11</td>\n",
       "      <td>212.74</td>\n",
       "      <td>217.626684</td>\n",
       "    </tr>\n",
       "    <tr>\n",
       "      <th>3</th>\n",
       "      <td>71.73</td>\n",
       "      <td>220.04</td>\n",
       "      <td>203.300239</td>\n",
       "    </tr>\n",
       "    <tr>\n",
       "      <th>4</th>\n",
       "      <td>69.88</td>\n",
       "      <td>206.35</td>\n",
       "      <td>192.164137</td>\n",
       "    </tr>\n",
       "    <tr>\n",
       "      <th>...</th>\n",
       "      <td>...</td>\n",
       "      <td>...</td>\n",
       "      <td>...</td>\n",
       "    </tr>\n",
       "    <tr>\n",
       "      <th>3496</th>\n",
       "      <td>69.30</td>\n",
       "      <td>185.65</td>\n",
       "      <td>188.672819</td>\n",
       "    </tr>\n",
       "    <tr>\n",
       "      <th>3497</th>\n",
       "      <td>70.54</td>\n",
       "      <td>210.20</td>\n",
       "      <td>196.137017</td>\n",
       "    </tr>\n",
       "    <tr>\n",
       "      <th>3498</th>\n",
       "      <td>73.91</td>\n",
       "      <td>202.43</td>\n",
       "      <td>216.422781</td>\n",
       "    </tr>\n",
       "    <tr>\n",
       "      <th>3499</th>\n",
       "      <td>67.40</td>\n",
       "      <td>144.28</td>\n",
       "      <td>177.235741</td>\n",
       "    </tr>\n",
       "    <tr>\n",
       "      <th>3500</th>\n",
       "      <td>72.74</td>\n",
       "      <td>187.22</td>\n",
       "      <td>209.379949</td>\n",
       "    </tr>\n",
       "  </tbody>\n",
       "</table>\n",
       "<p>3501 rows × 3 columns</p>\n",
       "</div>"
      ],
      "text/plain": [
       "      Height  Weight  Predicted Weight\n",
       "0      73.85  241.89        216.061610\n",
       "1      68.78  162.31        185.542671\n",
       "2      74.11  212.74        217.626684\n",
       "3      71.73  220.04        203.300239\n",
       "4      69.88  206.35        192.164137\n",
       "...      ...     ...               ...\n",
       "3496   69.30  185.65        188.672819\n",
       "3497   70.54  210.20        196.137017\n",
       "3498   73.91  202.43        216.422781\n",
       "3499   67.40  144.28        177.235741\n",
       "3500   72.74  187.22        209.379949\n",
       "\n",
       "[3501 rows x 3 columns]"
      ]
     },
     "execution_count": 25,
     "metadata": {},
     "output_type": "execute_result"
    }
   ],
   "source": [
    "df"
   ]
  },
  {
   "cell_type": "code",
   "execution_count": 26,
   "id": "0ebe7c21",
   "metadata": {},
   "outputs": [
    {
     "data": {
      "text/html": [
       "<div>\n",
       "<style scoped>\n",
       "    .dataframe tbody tr th:only-of-type {\n",
       "        vertical-align: middle;\n",
       "    }\n",
       "\n",
       "    .dataframe tbody tr th {\n",
       "        vertical-align: top;\n",
       "    }\n",
       "\n",
       "    .dataframe thead th {\n",
       "        text-align: right;\n",
       "    }\n",
       "</style>\n",
       "<table border=\"1\" class=\"dataframe\">\n",
       "  <thead>\n",
       "    <tr style=\"text-align: right;\">\n",
       "      <th></th>\n",
       "      <th>Height</th>\n",
       "      <th>Weight</th>\n",
       "      <th>Predicted Weight</th>\n",
       "    </tr>\n",
       "  </thead>\n",
       "  <tbody>\n",
       "    <tr>\n",
       "      <th>0</th>\n",
       "      <td>73.85</td>\n",
       "      <td>241.89</td>\n",
       "      <td>216.061610</td>\n",
       "    </tr>\n",
       "    <tr>\n",
       "      <th>1</th>\n",
       "      <td>68.78</td>\n",
       "      <td>162.31</td>\n",
       "      <td>185.542671</td>\n",
       "    </tr>\n",
       "    <tr>\n",
       "      <th>2</th>\n",
       "      <td>74.11</td>\n",
       "      <td>212.74</td>\n",
       "      <td>217.626684</td>\n",
       "    </tr>\n",
       "    <tr>\n",
       "      <th>3</th>\n",
       "      <td>71.73</td>\n",
       "      <td>220.04</td>\n",
       "      <td>203.300239</td>\n",
       "    </tr>\n",
       "    <tr>\n",
       "      <th>4</th>\n",
       "      <td>69.88</td>\n",
       "      <td>206.35</td>\n",
       "      <td>192.164137</td>\n",
       "    </tr>\n",
       "  </tbody>\n",
       "</table>\n",
       "</div>"
      ],
      "text/plain": [
       "   Height  Weight  Predicted Weight\n",
       "0   73.85  241.89        216.061610\n",
       "1   68.78  162.31        185.542671\n",
       "2   74.11  212.74        217.626684\n",
       "3   71.73  220.04        203.300239\n",
       "4   69.88  206.35        192.164137"
      ]
     },
     "execution_count": 26,
     "metadata": {},
     "output_type": "execute_result"
    }
   ],
   "source": [
    "df.head()"
   ]
  },
  {
   "cell_type": "code",
   "execution_count": 27,
   "id": "9b239d42",
   "metadata": {},
   "outputs": [],
   "source": [
    "testing = lr.predict(xtest)"
   ]
  },
  {
   "cell_type": "code",
   "execution_count": 28,
   "id": "d96659ba",
   "metadata": {},
   "outputs": [
    {
     "data": {
      "text/plain": [
       "array([204.08277621, 201.73516551, 208.95858307, ..., 206.30999663,\n",
       "       179.52315652, 189.15437993])"
      ]
     },
     "execution_count": 28,
     "metadata": {},
     "output_type": "execute_result"
    }
   ],
   "source": [
    "testing"
   ]
  },
  {
   "cell_type": "code",
   "execution_count": 29,
   "id": "93b986de",
   "metadata": {},
   "outputs": [
    {
     "data": {
      "text/plain": [
       "1101    196.35\n",
       "960     196.54\n",
       "2745    219.10\n",
       "358     167.70\n",
       "2173    206.73\n",
       "         ...  \n",
       "2565    200.91\n",
       "1519    204.22\n",
       "998     202.14\n",
       "1229    190.73\n",
       "1098    197.28\n",
       "Name: Weight, Length: 2101, dtype: float64"
      ]
     },
     "execution_count": 29,
     "metadata": {},
     "output_type": "execute_result"
    }
   ],
   "source": [
    "ytest"
   ]
  },
  {
   "cell_type": "code",
   "execution_count": 30,
   "id": "5f32bd2b",
   "metadata": {},
   "outputs": [
    {
     "name": "stderr",
     "output_type": "stream",
     "text": [
      "C:\\Users\\MY\\AppData\\Local\\Temp/ipykernel_1136/3049945434.py:1: SettingWithCopyWarning: \n",
      "A value is trying to be set on a copy of a slice from a DataFrame.\n",
      "Try using .loc[row_indexer,col_indexer] = value instead\n",
      "\n",
      "See the caveats in the documentation: https://pandas.pydata.org/pandas-docs/stable/user_guide/indexing.html#returning-a-view-versus-a-copy\n",
      "  xtest['pred'] = lr.predict(xtest)\n"
     ]
    }
   ],
   "source": [
    "xtest['pred'] = lr.predict(xtest)"
   ]
  },
  {
   "cell_type": "code",
   "execution_count": 31,
   "id": "84a7b05f",
   "metadata": {},
   "outputs": [
    {
     "data": {
      "text/html": [
       "<div>\n",
       "<style scoped>\n",
       "    .dataframe tbody tr th:only-of-type {\n",
       "        vertical-align: middle;\n",
       "    }\n",
       "\n",
       "    .dataframe tbody tr th {\n",
       "        vertical-align: top;\n",
       "    }\n",
       "\n",
       "    .dataframe thead th {\n",
       "        text-align: right;\n",
       "    }\n",
       "</style>\n",
       "<table border=\"1\" class=\"dataframe\">\n",
       "  <thead>\n",
       "    <tr style=\"text-align: right;\">\n",
       "      <th></th>\n",
       "      <th>Height</th>\n",
       "      <th>pred</th>\n",
       "    </tr>\n",
       "  </thead>\n",
       "  <tbody>\n",
       "    <tr>\n",
       "      <th>1101</th>\n",
       "      <td>71.86</td>\n",
       "      <td>204.082776</td>\n",
       "    </tr>\n",
       "    <tr>\n",
       "      <th>960</th>\n",
       "      <td>71.47</td>\n",
       "      <td>201.735166</td>\n",
       "    </tr>\n",
       "    <tr>\n",
       "      <th>2745</th>\n",
       "      <td>72.67</td>\n",
       "      <td>208.958583</td>\n",
       "    </tr>\n",
       "    <tr>\n",
       "      <th>358</th>\n",
       "      <td>66.76</td>\n",
       "      <td>173.383252</td>\n",
       "    </tr>\n",
       "    <tr>\n",
       "      <th>2173</th>\n",
       "      <td>69.26</td>\n",
       "      <td>188.432038</td>\n",
       "    </tr>\n",
       "    <tr>\n",
       "      <th>...</th>\n",
       "      <td>...</td>\n",
       "      <td>...</td>\n",
       "    </tr>\n",
       "    <tr>\n",
       "      <th>2565</th>\n",
       "      <td>72.12</td>\n",
       "      <td>205.647850</td>\n",
       "    </tr>\n",
       "    <tr>\n",
       "      <th>1519</th>\n",
       "      <td>69.72</td>\n",
       "      <td>191.201015</td>\n",
       "    </tr>\n",
       "    <tr>\n",
       "      <th>998</th>\n",
       "      <td>72.23</td>\n",
       "      <td>206.309997</td>\n",
       "    </tr>\n",
       "    <tr>\n",
       "      <th>1229</th>\n",
       "      <td>67.78</td>\n",
       "      <td>179.523157</td>\n",
       "    </tr>\n",
       "    <tr>\n",
       "      <th>1098</th>\n",
       "      <td>69.38</td>\n",
       "      <td>189.154380</td>\n",
       "    </tr>\n",
       "  </tbody>\n",
       "</table>\n",
       "<p>2101 rows × 2 columns</p>\n",
       "</div>"
      ],
      "text/plain": [
       "      Height        pred\n",
       "1101   71.86  204.082776\n",
       "960    71.47  201.735166\n",
       "2745   72.67  208.958583\n",
       "358    66.76  173.383252\n",
       "2173   69.26  188.432038\n",
       "...      ...         ...\n",
       "2565   72.12  205.647850\n",
       "1519   69.72  191.201015\n",
       "998    72.23  206.309997\n",
       "1229   67.78  179.523157\n",
       "1098   69.38  189.154380\n",
       "\n",
       "[2101 rows x 2 columns]"
      ]
     },
     "execution_count": 31,
     "metadata": {},
     "output_type": "execute_result"
    }
   ],
   "source": [
    "xtest"
   ]
  },
  {
   "cell_type": "code",
   "execution_count": 32,
   "id": "c374eef7",
   "metadata": {},
   "outputs": [],
   "source": [
    "xtest = xtest[['Height']]"
   ]
  },
  {
   "cell_type": "markdown",
   "id": "0180d909",
   "metadata": {},
   "source": [
    "# Check statistical indices"
   ]
  },
  {
   "cell_type": "code",
   "execution_count": 33,
   "id": "6c64b94c",
   "metadata": {},
   "outputs": [],
   "source": [
    "from sklearn.metrics import mean_squared_error\n",
    "pred = lr.predict(xtest)\n",
    "mse = mean_squared_error(ytest, pred)"
   ]
  },
  {
   "cell_type": "code",
   "execution_count": 34,
   "id": "89c58713",
   "metadata": {},
   "outputs": [
    {
     "data": {
      "text/plain": [
       "105.69407732570848"
      ]
     },
     "execution_count": 34,
     "metadata": {},
     "output_type": "execute_result"
    }
   ],
   "source": [
    "mse"
   ]
  },
  {
   "cell_type": "code",
   "execution_count": 35,
   "id": "ee354700",
   "metadata": {},
   "outputs": [],
   "source": [
    "from sklearn.metrics import mean_absolute_error\n",
    "pred = lr.predict(xtest)\n",
    "mae = mean_absolute_error(ytest, pred)"
   ]
  },
  {
   "cell_type": "code",
   "execution_count": 36,
   "id": "56c05dba",
   "metadata": {},
   "outputs": [
    {
     "data": {
      "text/plain": [
       "8.038170562796"
      ]
     },
     "execution_count": 36,
     "metadata": {},
     "output_type": "execute_result"
    }
   ],
   "source": [
    "mae"
   ]
  },
  {
   "cell_type": "code",
   "execution_count": 37,
   "id": "876d7b87",
   "metadata": {},
   "outputs": [
    {
     "data": {
      "text/plain": [
       "Text(0.5, 1.0, 'Co-relation of Height vs Weight')"
      ]
     },
     "execution_count": 37,
     "metadata": {},
     "output_type": "execute_result"
    },
    {
     "data": {
      "image/png": "[encoded data removed]",
      "text/plain": [
       "<Figure size 432x288 with 1 Axes>"
      ]
     },
     "metadata": {
      "needs_background": "light"
     },
     "output_type": "display_data"
    },
    {
     "data": {
      "image/png": "[encoded data removed]",
      "text/plain": [
       "<Figure size 576x504 with 1 Axes>"
      ]
     },
     "metadata": {
      "needs_background": "light"
     },
     "output_type": "display_data"
    }
   ],
   "source": [
    "plt.plot(xtest, lr.predict(xtest))\n",
    "plt.figure(figsize=(8,7))\n",
    "plt.scatter(df['Height'], df['Weight'], marker='+')\n",
    "plt.xlabel('Height in cm')\n",
    "plt.ylabel('Weight in pound')\n",
    "plt.title('Co-relation of Height vs Weight')"
   ]
  },
  {
   "cell_type": "code",
   "execution_count": 42,
   "id": "a5d13152",
   "metadata": {},
   "outputs": [
    {
     "data": {
      "text/plain": [
       "Text(0.5, 1.0, 'Co-relation of Height vs Weight')"
      ]
     },
     "execution_count": 42,
     "metadata": {},
     "output_type": "execute_result"
    },
    {
     "data": {
      "image/png": "[encoded data removed]",
      "text/plain": [
       "<Figure size 432x288 with 1 Axes>"
      ]
     },
     "metadata": {
      "needs_background": "light"
     },
     "output_type": "display_data"
    },
    {
     "data": {
      "image/png": "[encoded data removed]",
      "text/plain": [
       "<Figure size 576x504 with 1 Axes>"
      ]
     },
     "metadata": {
      "needs_background": "light"
     },
     "output_type": "display_data"
    }
   ],
   "source": [
    "plt.plot(xtest, lr.predict(xtest))\n",
    "plt.figure(figsize=(8,7))\n",
    "plt.scatter(df['Height'], df['Weight'], marker='+')\n",
    "plt.plot(xtest, lr.predict(xtest), color='purple')\n",
    "plt.xlabel('Height in cm')\n",
    "plt.ylabel('Weight in pound')\n",
    "plt.title('Co-relation of Height vs Weight')"
   ]
  },
  {
   "cell_type": "markdown",
   "id": "432c53a0",
   "metadata": {},
   "source": [
    "# Accuracy Check"
   ]
  },
  {
   "cell_type": "code",
   "execution_count": 46,
   "id": "f7260e2b",
   "metadata": {},
   "outputs": [
    {
     "data": {
      "text/plain": [
       "0.7290236601425448"
      ]
     },
     "execution_count": 46,
     "metadata": {},
     "output_type": "execute_result"
    }
   ],
   "source": [
    "lr.score(xtest, ytest)"
   ]
  },
  {
   "cell_type": "markdown",
   "id": "1e5459b4",
   "metadata": {},
   "source": [
    "# Accuracy for whole dataset"
   ]
  },
  {
   "cell_type": "code",
   "execution_count": 47,
   "id": "a1b3d1d2",
   "metadata": {},
   "outputs": [
    {
     "data": {
      "text/plain": [
       "0.7322600156248238"
      ]
     },
     "execution_count": 47,
     "metadata": {},
     "output_type": "execute_result"
    }
   ],
   "source": [
    "lr.score(df[['Height']], df.Weight)"
   ]
  },
  {
   "cell_type": "markdown",
   "id": "ba7ab4d3",
   "metadata": {},
   "source": [
    "# Training Accuracy"
   ]
  },
  {
   "cell_type": "code",
   "execution_count": 49,
   "id": "e9ba3e11",
   "metadata": {},
   "outputs": [
    {
     "data": {
      "text/plain": [
       "0.7363714990760972"
      ]
     },
     "execution_count": 49,
     "metadata": {},
     "output_type": "execute_result"
    }
   ],
   "source": [
    "lr.score(xtrain, ytrain)"
   ]
  },
  {
   "cell_type": "code",
   "execution_count": null,
   "id": "d8cce3a7",
   "metadata": {},
   "outputs": [],
   "source": []
  }
 ],
 "metadata": {
  "kernelspec": {
   "display_name": "Python 3 (ipykernel)",
   "language": "python",
   "name": "python3"
  },
  "language_info": {
   "codemirror_mode": {
    "name": "ipython",
    "version": 3
   },
   "file_extension": ".py",
   "mimetype": "text/x-python",
   "name": "python",
   "nbconvert_exporter": "python",
   "pygments_lexer": "ipython3",
   "version": "3.9.7"
  }
 },
 "nbformat": 4,
 "nbformat_minor": 5
}
